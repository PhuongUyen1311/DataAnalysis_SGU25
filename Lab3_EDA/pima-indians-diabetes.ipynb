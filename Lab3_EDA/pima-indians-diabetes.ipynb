{
 "cells": [
  {
   "cell_type": "markdown",
   "id": "c22da33b",
   "metadata": {},
   "source": [
    "PHÂN TÍCH KHÁM PHÁ VỀ BỆNH ĐÁI THÁO ĐƯỜNG"
   ]
  }
 ],
 "metadata": {
  "language_info": {
   "name": "python"
  }
 },
 "nbformat": 4,
 "nbformat_minor": 5
}
